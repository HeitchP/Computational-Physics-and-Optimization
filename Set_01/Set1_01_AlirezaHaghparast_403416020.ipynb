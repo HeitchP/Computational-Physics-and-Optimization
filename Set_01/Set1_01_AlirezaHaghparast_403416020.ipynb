{
 "cells": [
  {
   "cell_type": "markdown",
   "id": "2b8e7c9e-9eb0-4835-99e4-30992b1ce724",
   "metadata": {},
   "source": [
    "Alireza Haghparast 403416020\n",
    "# Solving the Traveling Salesman Problem (TSP)\r\n",
    "\r\n",
    "In this notebook, we will solve the Traveling Salesman Problem (TSP) using two specific conditions:\r\n",
    "1. **Visiting city C twice**: The traveler must visit city C twice during the tour.\r\n",
    "2. **Visiting city C before city D**: The traveler must visit city C before visiting city D.\r\n",
    "\r\n",
    "We will use Python and the `itertools` module to explore all possible permutations of city visits and find the shortest path for each condition.\r\n"
   ]
  },
  {
   "cell_type": "markdown",
   "id": "3232ae42-e76e-4ddb-83f4-3f14c1367105",
   "metadata": {},
   "source": [
    "## Problem Setup\r\n",
    "\r\n",
    "We have four cities: A, B, C, and D, connected by roads with given distances between them. The goal is to start from city A, visit all cities according to the specific conditions, and return to city A, while minimizing the total distance traveled.\r\n",
    "\r\n",
    "### Cities and Distances:\r\n",
    "- A to C = 3.16\r\n",
    "- A to B = 2.24\r\n",
    "- A to D = 4.24\r\n",
    "- B to C = 2.24\r\n",
    "- B to D = 2.24\r\n",
    "- C to D = 2\r\n",
    "\r\n",
    "We will first solve the TSP by visiting city C twice, and then we will solve it again by ensuring that city C is visited before city D.\r\n"
   ]
  },
  {
   "cell_type": "code",
   "execution_count": 14,
   "id": "ba4f4c11-33b6-483b-8d66-1c184d6098f2",
   "metadata": {},
   "outputs": [],
   "source": [
    "# Cities and distances between them\n",
    "cities = ['A', 'B', 'C', 'D']\n",
    "distances = {\n",
    "    ('A', 'C'): 3.16, ('A', 'B'): 2.24, ('A', 'D'): 4.24,\n",
    "    ('B', 'C'): 2.24, ('B', 'D'): 2.24, ('C', 'D'): 2,\n",
    "}\n",
    "\n",
    "# Add return distances (symmetric TSP)\n",
    "for (x, y), d in list(distances.items()):\n",
    "    distances[(y, x)] = d\n"
   ]
  },
  {
   "cell_type": "markdown",
   "id": "73c73ac8-1c09-4c21-8502-aaf34780cb61",
   "metadata": {},
   "source": [
    "Here, we define the cities and their pairwise distances in a dictionary. Since the problem is symmetric (the distance from city A to city B is the same as from B to A), we add the reverse distances as well.\n"
   ]
  },
  {
   "cell_type": "code",
   "execution_count": 8,
   "id": "ac271791-c4fe-4e16-a6e3-599b01624496",
   "metadata": {},
   "outputs": [],
   "source": [
    "# Function to calculate total distance of a path\n",
    "def calculate_distance(path):\n",
    "    total_dist = 0\n",
    "    for i in range(len(path) - 1):\n",
    "        total_dist += distances.get((path[i], path[i+1]), float('inf'))\n",
    "    return total_dist\n"
   ]
  },
  {
   "cell_type": "markdown",
   "id": "a12c3fc3-ec99-4029-b4d4-862267356054",
   "metadata": {},
   "source": [
    "## Condition 1: Visiting City C Twice\n",
    "\n",
    "We will now solve the TSP while visiting city C twice. To achieve this, we will:\n",
    "1. Create a modified list of cities that includes C twice.\n",
    "2. Generate all possible permutations of this list, fixing the start at city A.\n",
    "3. Check for the condition that city C appears exactly twice.\n",
    "4. Calculate the total distance for each valid path and find the shortest one.\n"
   ]
  },
  {
   "cell_type": "code",
   "execution_count": 10,
   "id": "8ac6f0bb-4a62-4ab1-a4fe-9147ee756992",
   "metadata": {},
   "outputs": [
    {
     "name": "stdout",
     "output_type": "stream",
     "text": [
      "Best path visiting C twice: ('A', 'B', 'C', 'D', 'C') with distance: 8.48\n"
     ]
    }
   ],
   "source": [
    "from itertools import permutations\n",
    "\n",
    "# Insert C twice into the list of cities\n",
    "def solve_tsp_with_C_twice():\n",
    "    cities_with_C_twice = ['A', 'B', 'C', 'D', 'C']\n",
    "    best_path = None\n",
    "    min_distance = float('inf')\n",
    "\n",
    "    for perm in permutations(cities_with_C_twice[1:]):  # Fix start at 'A'\n",
    "        path = ('A',) + perm\n",
    "        if path.count('C') == 2:  # Ensure C is visited twice\n",
    "            dist = calculate_distance(path)\n",
    "            if dist < min_distance:\n",
    "                min_distance = dist\n",
    "                best_path = path\n",
    "\n",
    "    return best_path, min_distance\n",
    "\n",
    "# Solve and display the result\n",
    "best_path_twice, min_distance_twice = solve_tsp_with_C_twice()\n",
    "print(f\"Best path visiting C twice: {best_path_twice} with distance: {min_distance_twice}\")\n"
   ]
  },
  {
   "cell_type": "markdown",
   "id": "045e4b20-8c42-4e00-91be-e0f39b5ae938",
   "metadata": {},
   "source": [
    "In this block of code, we use Python's `itertools.permutations` function to generate all possible ways to visit the cities, with city C appearing twice. We then calculate the distance for each path and return the shortest one.\n"
   ]
  },
  {
   "cell_type": "markdown",
   "id": "5b256f39-cc85-449d-992f-359c7f55a6c8",
   "metadata": {},
   "source": [
    "## Condition 2: Visiting City C Before City D\r\n",
    "\r\n",
    "Next, we will solve the TSP by enforcing the condition that city C must be visited before city D.\r\n",
    "1. We generate all possible permutations of cities.\r\n",
    "2. We filter out the paths where C appears after D.\r\n",
    "3. For each valid path, we calculate the total distance and find the shortest one.\r\n",
    "n_distance_twice}\")\r\n"
   ]
  },
  {
   "cell_type": "code",
   "execution_count": 13,
   "id": "7697e4d4-65fb-49af-ba37-7fcceffaf4c2",
   "metadata": {},
   "outputs": [
    {
     "name": "stdout",
     "output_type": "stream",
     "text": [
      "Best path visiting C before D: ('A', 'B', 'C', 'D') with distance: 6.48\n"
     ]
    }
   ],
   "source": [
    "# Solve TSP ensuring C comes before D\n",
    "def solve_tsp_with_C_before_D():\n",
    "    best_path = None\n",
    "    min_distance = float('inf')\n",
    "\n",
    "    for perm in permutations(cities[1:]):  # Fix start at 'A'\n",
    "        path = ('A',) + perm\n",
    "        if path.index('C') < path.index('D'):  # Ensure C comes before D\n",
    "            dist = calculate_distance(path)\n",
    "            if dist < min_distance:\n",
    "                min_distance = dist\n",
    "                best_path = path\n",
    "\n",
    "    return best_path, min_distance\n",
    "\n",
    "# Solve and display the result\n",
    "best_path_before_D, min_distance_before_D = solve_tsp_with_C_before_D()\n",
    "print(f\"Best path visiting C before D: {best_path_before_D} with distance: {min_distance_before_D}\")\n"
   ]
  },
  {
   "cell_type": "markdown",
   "id": "34511e95-0484-4803-b455-6fed62b60d51",
   "metadata": {},
   "source": [
    "The code ensures that city C is visited before city D. For each permutation, we check if city C appears before city D using the `index()` function. If the condition is satisfied, we calculate the distance for the path and keep track of the shortest one.\n"
   ]
  }
 ],
 "metadata": {
  "kernelspec": {
   "display_name": "Python 3 (ipykernel)",
   "language": "python",
   "name": "python3"
  },
  "language_info": {
   "codemirror_mode": {
    "name": "ipython",
    "version": 3
   },
   "file_extension": ".py",
   "mimetype": "text/x-python",
   "name": "python",
   "nbconvert_exporter": "python",
   "pygments_lexer": "ipython3",
   "version": "3.11.7"
  }
 },
 "nbformat": 4,
 "nbformat_minor": 5
}
